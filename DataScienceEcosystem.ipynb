{
 "cells": [
  {
   "cell_type": "markdown",
   "id": "e288b196-2c2e-496a-ae3c-e4577f9b78b8",
   "metadata": {},
   "source": [
    "# Data Science Tools and Ecosystem"
   ]
  },
  {
   "cell_type": "markdown",
   "id": "7950f55d-4786-4330-b48e-1bc500b991c9",
   "metadata": {},
   "source": [
    "In this notebook, Data Science Tools and Ecosystem are summarized. "
   ]
  },
  {
   "cell_type": "markdown",
   "id": "4cb351a9-d42e-466e-8cb4-693c654a9f1a",
   "metadata": {},
   "source": [
    "**Objectives:**\n",
    "\n",
    "* List popular languages for Data Science\n",
    "* List commonly used libraries by Data Scientist\n",
    "* Provide some illustrations of how to evaluate expressions in Python\n"
   ]
  },
  {
   "cell_type": "markdown",
   "id": "444da148-faad-4917-b97e-9e896d5e3231",
   "metadata": {},
   "source": [
    "Some of the popular language that Data Scientist use are:\n",
    "\n",
    "1. Python\n",
    "2. R\n",
    "3. SQL\n",
    "4. Julia\n",
    "5. Scala"
   ]
  },
  {
   "cell_type": "markdown",
   "id": "ab7a5165-6cf6-4a00-a18f-9826eb56086b",
   "metadata": {},
   "source": [
    "Some of the commonly used libraries used by Data Scientists Include:\n",
    "\n",
    "1. NumPy\n",
    "2. Pandas\n",
    "3. Matplotlib\n",
    "4. TensorFlow"
   ]
  },
  {
   "cell_type": "markdown",
   "id": "daf7c27b-c3df-49f2-bbeb-b8e32b2f9994",
   "metadata": {},
   "source": [
    "|Data Science Tools|\n",
    "|-----|\n",
    "|Jupyter Notebooks|\n",
    "|RStudio|\n",
    "|Visual Studio Code|"
   ]
  },
  {
   "cell_type": "markdown",
   "id": "4d1b2023-e16e-490f-8f8b-d7c2a74ef790",
   "metadata": {},
   "source": [
    "### Below are a few examples of evaluating expressions in Python"
   ]
  },
  {
   "cell_type": "markdown",
   "id": "c97340aa-f554-43d2-89d5-9fee6dbc8258",
   "metadata": {},
   "source": [
    "This is simple arithmetic expression to multiply then add integers"
   ]
  },
  {
   "cell_type": "code",
   "execution_count": 2,
   "id": "8b0b35e9-aa95-4d68-8a69-076910d41149",
   "metadata": {},
   "outputs": [
    {
     "data": {
      "text/plain": [
       "17"
      ]
     },
     "execution_count": 2,
     "metadata": {},
     "output_type": "execute_result"
    }
   ],
   "source": [
    "(3*4)+5"
   ]
  },
  {
   "cell_type": "markdown",
   "id": "331a40ab-24b1-476c-b0ff-8f8a8bb6ed36",
   "metadata": {},
   "source": [
    "This will convert 200 minutes into hours by dividing by 60"
   ]
  },
  {
   "cell_type": "code",
   "execution_count": 4,
   "id": "ef711e29-c3fe-465a-8da1-7e1d12727b38",
   "metadata": {},
   "outputs": [
    {
     "data": {
      "text/plain": [
       "3.3333333333333335"
      ]
     },
     "execution_count": 4,
     "metadata": {},
     "output_type": "execute_result"
    }
   ],
   "source": [
    "200/60"
   ]
  },
  {
   "cell_type": "markdown",
   "id": "8852bf00-c97d-43b0-a06c-05eeef36e1d7",
   "metadata": {},
   "source": [
    "## Author\n",
    "Jairo Contreras "
   ]
  },
  {
   "cell_type": "code",
   "execution_count": null,
   "id": "6c43e28a-ff3c-4067-b07c-21524606f757",
   "metadata": {},
   "outputs": [],
   "source": []
  }
 ],
 "metadata": {
  "kernelspec": {
   "display_name": "Python 3",
   "language": "python",
   "name": "python3"
  },
  "language_info": {
   "codemirror_mode": {
    "name": "ipython",
    "version": 3
   },
   "file_extension": ".py",
   "mimetype": "text/x-python",
   "name": "python",
   "nbconvert_exporter": "python",
   "pygments_lexer": "ipython3",
   "version": "3.8.8"
  }
 },
 "nbformat": 4,
 "nbformat_minor": 5
}
